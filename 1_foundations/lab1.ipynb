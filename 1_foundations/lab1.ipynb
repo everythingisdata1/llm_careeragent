{
 "cells": [
  {
   "cell_type": "code",
   "execution_count": 70,
   "id": "46fb907d450b6a13",
   "metadata": {},
   "outputs": [],
   "source": [
    "import os\n",
    "from dotenv import load_dotenv\n",
    "from openai import OpenAI\n",
    "from IPython.display import Markdown, display"
   ]
  },
  {
   "cell_type": "code",
   "execution_count": 71,
   "id": "01ae54fd-55e5-4db7-aa2d-0a855e649e22",
   "metadata": {},
   "outputs": [
    {
     "data": {
      "text/plain": [
       "True"
      ]
     },
     "execution_count": 71,
     "metadata": {},
     "output_type": "execute_result"
    }
   ],
   "source": [
    "load_dotenv(override=True)"
   ]
  },
  {
   "cell_type": "code",
   "execution_count": 44,
   "id": "e914d8ac-19a1-4f05-97bc-a4ffd0683647",
   "metadata": {},
   "outputs": [
    {
     "name": "stdout",
     "output_type": "stream",
     "text": [
      "OpenAPI key present sk-proj-i9\n"
     ]
    }
   ],
   "source": [
    "openai_api_key=os.getenv('OPENAI_API_KEY')\n",
    "if openai_api_key:\n",
    "    print(f'OpenAPI key present {openai_api_key[:10]}')"
   ]
  },
  {
   "cell_type": "code",
   "execution_count": 45,
   "id": "66af2a08-c8d5-4f53-b8f3-b97d9ef477bc",
   "metadata": {},
   "outputs": [],
   "source": [
    "openai_client=OpenAI(api_key=openai_api_key)"
   ]
  },
  {
   "cell_type": "code",
   "execution_count": 46,
   "id": "b9b09f59-3429-40a5-9786-8c47d32c64fb",
   "metadata": {},
   "outputs": [],
   "source": [
    "message=[{ \"role\": \"user\",  \"content\": \"What is 2+2 ?\" }]"
   ]
  },
  {
   "cell_type": "code",
   "execution_count": 47,
   "id": "e43a0406-caa3-40f2-af41-4123ce433b5e",
   "metadata": {},
   "outputs": [],
   "source": [
    "response=openai_client.chat.completions.create(model=\"gpt-4o-mini\", messages=message)"
   ]
  },
  {
   "cell_type": "code",
   "execution_count": 48,
   "id": "b3464a9f-1689-4236-a594-b29c428bd3f3",
   "metadata": {},
   "outputs": [
    {
     "name": "stdout",
     "output_type": "stream",
     "text": [
      "2 + 2 equals 4.\n"
     ]
    }
   ],
   "source": [
    "print(response.choices[0].message.content)"
   ]
  },
  {
   "cell_type": "code",
   "execution_count": 50,
   "id": "ef4f836c-1bfd-40ee-a253-36e4a7b5398c",
   "metadata": {},
   "outputs": [
    {
     "name": "stdout",
     "output_type": "stream",
     "text": [
      "('finish_reason', 'stop')\n",
      "('index', 0)\n",
      "('logprobs', None)\n",
      "('message', ChatCompletionMessage(content='2 + 2 equals 4.', refusal=None, role='assistant', annotations=[], audio=None, function_call=None, tool_calls=None))\n"
     ]
    }
   ],
   "source": [
    "for msg in response.choices[0]:\n",
    "    print(msg)"
   ]
  },
  {
   "cell_type": "code",
   "execution_count": 56,
   "id": "fd1b6378-d639-4d17-99a3-46893070c423",
   "metadata": {},
   "outputs": [],
   "source": [
    "question=\"Please propose a hard, challenging question to assess someone's IQ. Respond only with the Question\"\n",
    "context=[{ \"role\": \"user\",  \"content\": questions }]"
   ]
  },
  {
   "cell_type": "code",
   "execution_count": 57,
   "id": "1f5bc2d6-3c61-4d1d-9813-6314bd707ad4",
   "metadata": {},
   "outputs": [],
   "source": [
    "response=openai_client.chat.completions.create(model=\"gpt-4o-mini\", messages=context)"
   ]
  },
  {
   "cell_type": "code",
   "execution_count": 65,
   "id": "6c9c3d03-e398-4482-b4bc-4042b1c5b4aa",
   "metadata": {},
   "outputs": [],
   "source": [
    "que=response.choices[0].message.content"
   ]
  },
  {
   "cell_type": "code",
   "execution_count": 66,
   "id": "f3e062bb-cfe1-47dc-9c66-8490f1d2c78a",
   "metadata": {},
   "outputs": [
    {
     "name": "stdout",
     "output_type": "stream",
     "text": [
      "If a train leaves a station traveling at 60 miles per hour and a second train leaves the same station 30 minutes later traveling at 90 miles per hour, how far from the station will the second train catch up to the first train?\n"
     ]
    }
   ],
   "source": [
    "print(que)"
   ]
  },
  {
   "cell_type": "code",
   "execution_count": 72,
   "id": "9b1042b9-9328-4786-8f0b-d15eaf9447e5",
   "metadata": {},
   "outputs": [],
   "source": [
    "msg=[{\"role\":\"user\", \"content\":que}]\n",
    "response=openai_client.chat.completions.create(model=\"gpt-4o-mini\", messages=msg)\n"
   ]
  },
  {
   "cell_type": "code",
   "execution_count": 73,
   "id": "569813ff-c7ba-46c6-b409-aee2078fa962",
   "metadata": {},
   "outputs": [],
   "source": [
    "ans=response.choices[0].message.content "
   ]
  },
  {
   "cell_type": "code",
   "execution_count": 75,
   "id": "c14d495d-734c-42c8-91cd-ebd022014af5",
   "metadata": {},
   "outputs": [
    {
     "data": {
      "text/markdown": [
       "To solve the problem, let's first determine how far the first train travels before the second train begins its journey.\n",
       "\n",
       "1. **Distance traveled by the first train in 30 minutes:**\n",
       "   - The first train travels at a speed of 60 miles per hour.\n",
       "   - Since 30 minutes is half an hour, we can calculate the distance traveled by the first train during this time:\n",
       "     \\[\n",
       "     \\text{Distance} = \\text{Speed} \\times \\text{Time} = 60 \\, \\text{miles per hour} \\times 0.5 \\, \\text{hours} = 30 \\, \\text{miles}\n",
       "     \\]\n",
       "\n",
       "2. **Relative speed of the second train:**\n",
       "   - The second train travels at a speed of 90 miles per hour.\n",
       "   - The first train continues to travel at 60 miles per hour.\n",
       "   - The relative speed of the second train compared to the first is:\n",
       "     \\[\n",
       "     \\text{Relative Speed} = \\text{Speed of Second Train} - \\text{Speed of First Train} = 90 \\, \\text{mph} - 60 \\, \\text{mph} = 30 \\, \\text{mph}\n",
       "     \\]\n",
       "\n",
       "3. **Time taken by the second train to catch up:**\n",
       "   - The second train needs to cover the 30 miles that the first train has already traveled when the second train starts.\n",
       "   - The time it takes for the second train to catch up can be calculated by using the formula:\n",
       "     \\[\n",
       "     \\text{Time} = \\frac{\\text{Distance}}{\\text{Relative Speed}} = \\frac{30 \\, \\text{miles}}{30 \\, \\text{miles per hour}} = 1 \\, \\text{hour}\n",
       "     \\]\n",
       "\n",
       "4. **Distance from the station where the second train catches up:**\n",
       "   - During this time, both trains will have traveled a certain distance from the station. We can calculate this distance using the formula for distance using the speed of the first train (since it has been traveling for 1.5 hours when the second train catches up):\n",
       "   - The total time the first train has traveled when the second train catches up (30 minutes plus 1 hour) is:\n",
       "     \\[\n",
       "     0.5 \\, \\text{hours} + 1 \\, \\text{hour} = 1.5 \\, \\text{hours}\n",
       "     \\]\n",
       "   - Therefore, the distance the first train traveled is:\n",
       "     \\[\n",
       "     \\text{Distance} = \\text{Speed} \\times \\text{Time} = 60 \\, \\text{miles per hour} \\times 1.5 \\, \\text{hours} = 90 \\, \\text{miles}\n",
       "     \\]\n",
       "\n",
       "Thus, the second train catches up to the first train 90 miles away from the station. \n",
       "\n",
       "**Final answer: 90 miles**"
      ],
      "text/plain": [
       "<IPython.core.display.Markdown object>"
      ]
     },
     "metadata": {},
     "output_type": "display_data"
    }
   ],
   "source": [
    "display(Markdown(ans))"
   ]
  },
  {
   "cell_type": "code",
   "execution_count": 97,
   "id": "c05cc039-40dd-426c-8e0d-01de88f9c191",
   "metadata": {},
   "outputs": [],
   "source": [
    "idea=\"What business idea can we explore in the Stress Testing domain in bank?\" \n",
    "idea_msg=[{\"role\": \"user\", \"content\": idea}]"
   ]
  },
  {
   "cell_type": "code",
   "execution_count": 98,
   "id": "4b2acdfe-5bf8-4d2c-973e-6adfb4fb21ea",
   "metadata": {},
   "outputs": [],
   "source": [
    "response=openai_client.chat.completions.create(model=\"gpt-4o-mini\", messages=idea_msg)"
   ]
  },
  {
   "cell_type": "code",
   "execution_count": 99,
   "id": "1eec31ca-bb8e-433e-b468-5569ff4332b0",
   "metadata": {},
   "outputs": [],
   "source": [
    "idea_resp=response.choices[0].message.content"
   ]
  },
  {
   "cell_type": "code",
   "execution_count": 100,
   "id": "7d512fd5-5fca-4683-b7b9-56a6a9265b5e",
   "metadata": {},
   "outputs": [
    {
     "name": "stdout",
     "output_type": "stream",
     "text": [
      "Exploring business opportunities in the stress testing domain for banks can be quite promising, especially with the increasing regulatory pressure and the need for robust risk management practices. Here are several business ideas you can consider:\n",
      "\n",
      "1. **Stress Testing Software Solutions**: Develop a specialized software platform that allows banks to conduct stress tests more efficiently. This could include automated data collection, scenario analysis, and reporting capabilities. Features could include customizable scenarios, risk factor integration, and real-time analytics.\n",
      "\n",
      "2. **Consultancy Services for Stress Testing**: Establish a consultancy that provides banks with expertise in stress testing methodologies. This can involve advising on best practices, helping to design and implement stress tests, and providing support for regulatory submissions.\n",
      "\n",
      "3. **Scenario Generation Tools**: Create a tool that helps banks generate realistic stress testing scenarios based on current economic indicators, market conditions, and historical data. This could include machine learning capabilities to predict potential future stress scenarios.\n",
      "\n",
      "4. **Training Programs and Workshops**: Develop training programs or workshops for bank personnel on how to effectively conduct stress tests, interpret results, and use findings to influence risk management strategies. This could also involve certifications for compliance with regulatory standards.\n",
      "\n",
      "5. **Data Analytics Services**: Offer data analytics services to analyze stress test results and offer insights that could assist with capital planning, risk management, and decision-making processes within banks. This could include predictive analytics to assess future risks.\n",
      "\n",
      "6. **Cloud-based Stress Testing Platforms**: Over the last few years, many businesses have moved to the cloud. Creating a cloud-based platform that offers collaborative tools for stress testing can help smaller banks that may not have the resources to invest in large software infrastructure.\n",
      "\n",
      "7. **Integration of ESG Factors**: As environmental, social, and governance (ESG) factors become more relevant in risk assessments, create a specialized tool or service that incorporates ESG scenarios into stress testing, helping banks assess how these factors could impact their financial stability.\n",
      "\n",
      "8. **Benchmarking Services**: Develop a service that allows banks to benchmark their stress testing results and methodologies against their peers or industry standards. This can help institutions identify gaps in their practices and improve their risk management frameworks.\n",
      "\n",
      "9. **Regulatory Compliance Tools**: As regulations around stress testing continue to evolve, create tools that help banks stay compliant with the latest requirements in their jurisdiction, including documentation, scenario testing, and reporting.\n",
      "\n",
      "10. **Collaborative Platforms for Sharing Insights**: Create a platform where banks can collaboratively share insights and best practices on stress testing, while ensuring that sensitive financial data remains secure. This could foster industry learning and improve overall practices.\n",
      "\n",
      "11. **Risk Management Framework Enhancement**: Provide services that assist banks in enhancing their overall risk management frameworks, with stress testing as a central pillar. This can include integrating stress testing into broader risk management strategies tailored to their specific risk profiles.\n",
      "\n",
      "12. **AI-driven Risk Assessment Tools**: Leverage AI and machine learning to develop advanced risk assessment tools that help banks forecast vulnerabilities and potential risks based on historical stress test data and market trends.\n",
      "\n",
      "By focusing on the needs and challenges faced by banks in the stress testing domain, you can create innovative solutions that not only help mitigate risk but also improve overall financial resilience.\n"
     ]
    }
   ],
   "source": [
    "print(idea_resp)"
   ]
  },
  {
   "cell_type": "code",
   "execution_count": null,
   "id": "ebd39807-3a8c-4e26-94a8-38f7aa30604c",
   "metadata": {},
   "outputs": [],
   "source": []
  }
 ],
 "metadata": {
  "kernelspec": {
   "display_name": "Python 3 (ipykernel)",
   "language": "python",
   "name": "python3"
  },
  "language_info": {
   "codemirror_mode": {
    "name": "ipython",
    "version": 3
   },
   "file_extension": ".py",
   "mimetype": "text/x-python",
   "name": "python",
   "nbconvert_exporter": "python",
   "pygments_lexer": "ipython3",
   "version": "3.11.9"
  }
 },
 "nbformat": 4,
 "nbformat_minor": 5
}
