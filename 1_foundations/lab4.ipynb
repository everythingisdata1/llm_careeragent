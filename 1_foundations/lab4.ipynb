{
 "cells": [
  {
   "cell_type": "markdown",
   "id": "0709081b-a65a-4629-9e1a-37822ca1ed17",
   "metadata": {},
   "source": [
    "# LLMs Project with OpenAI Career Agent"
   ]
  },
  {
   "cell_type": "markdown",
   "id": "868d78d8-8c7d-449d-8905-ef04a6c2d5d8",
   "metadata": {},
   "source": [
    "####  ```This will take LinkedIn profile and summery as in put and genrate Career Agent```"
   ]
  },
  {
   "cell_type": "code",
   "execution_count": 215,
   "id": "0289fadd-45fb-4194-9709-944bc5e32c75",
   "metadata": {},
   "outputs": [],
   "source": [
    "import json\n",
    "import os\n",
    "import requests\n",
    "import gradio as gr\n",
    "from dotenv import load_dotenv\n",
    "from openai import OpenAI\n",
    "from PyPDF2 import PdfReader\n",
    "from IPython.display import Markdown, display"
   ]
  },
  {
   "cell_type": "code",
   "execution_count": 216,
   "id": "168a1627-c22f-474c-a34c-9784029bd490",
   "metadata": {},
   "outputs": [
    {
     "data": {
      "text/plain": [
       "True"
      ]
     },
     "execution_count": 216,
     "metadata": {},
     "output_type": "execute_result"
    }
   ],
   "source": [
    "load_dotenv()"
   ]
  },
  {
   "cell_type": "code",
   "execution_count": 217,
   "id": "c9bebcea-38a0-4cf1-9c1f-2a8f4507909b",
   "metadata": {},
   "outputs": [],
   "source": [
    "PUSHOVER_USER=os.getenv('PUSHOVER_USER')\n",
    "PUSHOVER_TOKEN=os.getenv('PUSHOVER_TOKEN')\n",
    "PUSHOVER_URL=os.getenv('PUSHOVER_URL')"
   ]
  },
  {
   "cell_type": "code",
   "execution_count": 218,
   "id": "26b612b9-da4c-459a-b211-b0c186b4ecfa",
   "metadata": {},
   "outputs": [
    {
     "name": "stdout",
     "output_type": "stream",
     "text": [
      "PUSHOVER_USER :umnmtj7piacqgcvawarue673dzan74\n",
      "PUSHOVER_TOKEN :a8j51783yiqqmt11ipiy7jpujj2ck1\n",
      "PUSHOVER_URL :https://api.pushover.net/1/messages.json\n"
     ]
    }
   ],
   "source": [
    "print(f'PUSHOVER_USER :{PUSHOVER_USER}')\n",
    "print(f'PUSHOVER_TOKEN :{PUSHOVER_TOKEN}')\n",
    "print(f'PUSHOVER_URL :{PUSHOVER_URL}')"
   ]
  },
  {
   "cell_type": "code",
   "execution_count": 219,
   "id": "3a6fb88a-c4bb-48a5-bda3-25e5d7fc63eb",
   "metadata": {},
   "outputs": [],
   "source": [
    "def push(message):\n",
    "    try:\n",
    "        print(f\"User Message :: {message}\")\n",
    "        pyload={\"user\":PUSHOVER_USER,\"token\":PUSHOVER_TOKEN,\"message\":message}\n",
    "        requests.post(PUSHOVER_URL,pyload)\n",
    "        print(\"User Message Pushed\")\n",
    "\n",
    "    except:\n",
    "        print('Failed ')"
   ]
  },
  {
   "cell_type": "code",
   "execution_count": 220,
   "id": "87478a8d-83ed-43a4-a461-679235753963",
   "metadata": {},
   "outputs": [
    {
     "name": "stdout",
     "output_type": "stream",
     "text": [
      "User Message :: hai\n",
      "User Message Pushed\n"
     ]
    }
   ],
   "source": [
    "push(\"hai\")"
   ]
  },
  {
   "cell_type": "code",
   "execution_count": 221,
   "id": "2d164beb-bb2d-4e59-b5ff-0c6d740866e5",
   "metadata": {},
   "outputs": [],
   "source": [
    "def record_user_details(email,name=\"Name not provided\", notes=\"not provided\"):\n",
    "    push(f\"Recording interest in {name} with email {email} and notes {notest}\")\n",
    "    return {\"recorded\": \"ok\"}"
   ]
  },
  {
   "cell_type": "code",
   "execution_count": 222,
   "id": "192fc54d-a6b1-43ee-86b3-912b2a4fa8a5",
   "metadata": {},
   "outputs": [],
   "source": [
    "def record_unknown_questions(question):\n",
    "    push(f\"Recording unknown question :: {question} asked that I  couldn't answer\")\n",
    "    return { \"recorded\": \"ok\"}"
   ]
  },
  {
   "cell_type": "code",
   "execution_count": 223,
   "id": "46f35af2-348a-4e95-93d4-2d177f9cf079",
   "metadata": {},
   "outputs": [],
   "source": [
    "record_user_details_json= {\n",
    "  \"name\": \"record_user_details\",\n",
    "  \"description\": \"Use this tool to record that a user is interested in  being in touch and provided an email address\",\n",
    "  \"parameters\": {\n",
    "    \"type\": \"object\",\n",
    "    \"properties\": {\n",
    "      \"email\": {\n",
    "        \"type\": \"string\",\n",
    "        \"description\": \"The email address of this user\"\n",
    "      },\n",
    "      \"name\": {\n",
    "        \"type\": \"string\",\n",
    "        \"description\": \"The user's name, if they provided it\"\n",
    "      },\n",
    "      \"notes\": {\n",
    "        \"type\": \"string\",\n",
    "        \"description\": \"Any additional information about the conversation that's worth recording to the given context!\"\n",
    "      }\n",
    "    },\n",
    "    \"required\": [\"email\"],\n",
    "    \"additionalProperties\": False\n",
    "  }\n",
    "}"
   ]
  },
  {
   "cell_type": "code",
   "execution_count": 224,
   "id": "aee7ccb1-c980-4541-b461-5e6eeecca502",
   "metadata": {},
   "outputs": [],
   "source": [
    "record_unknown_questions_json={\n",
    "  \"name\": \"record_unknown_questions\",\n",
    "  \"description\": \"Always use this tool to record any question you can't answer, as you don't know the answer. Never answer the question yourself.\",\n",
    "  \"parameters\": {\n",
    "    \"type\": \"object\",\n",
    "    \"properties\": {\n",
    "      \"question\": {\n",
    "        \"type\": \"string\",\n",
    "        \"description\": \"This question that couldn't be answered\"\n",
    "      }\n",
    "    },\n",
    "    \"required\": [\n",
    "      \"question\"\n",
    "    ],\n",
    "    \"additionalProperties\": False\n",
    "  }\n",
    "}"
   ]
  },
  {
   "cell_type": "code",
   "execution_count": 225,
   "id": "4568ef52-e953-4ab7-89fe-402487044c4a",
   "metadata": {},
   "outputs": [],
   "source": [
    "tools=[\n",
    "    {\"type\": \"function\", \"function\": record_user_details_json},\n",
    "    {\"type\": \"function\", \"function\": record_unknown_questions_json}\n",
    "]"
   ]
  },
  {
   "cell_type": "code",
   "execution_count": 226,
   "id": "a86cc999-a953-480b-9025-556bc547b8d5",
   "metadata": {},
   "outputs": [
    {
     "data": {
      "text/plain": [
       "[{'type': 'function',\n",
       "  'function': {'name': 'record_user_details',\n",
       "   'description': 'Use this tool to record that a user is interested in  being in touch and provided an email address',\n",
       "   'parameters': {'type': 'object',\n",
       "    'properties': {'email': {'type': 'string',\n",
       "      'description': 'The email address of this user'},\n",
       "     'name': {'type': 'string',\n",
       "      'description': \"The user's name, if they provided it\"},\n",
       "     'notes': {'type': 'string',\n",
       "      'description': \"Any additional information about the conversation that's worth recording to the given context!\"}},\n",
       "    'required': ['email'],\n",
       "    'additionalProperties': False}}},\n",
       " {'type': 'function',\n",
       "  'function': {'name': 'record_unknown_questions',\n",
       "   'description': \"Always use this tool to record any question you can't answer, as you don't know the answer. Never answer the question yourself.\",\n",
       "   'parameters': {'type': 'object',\n",
       "    'properties': {'question': {'type': 'string',\n",
       "      'description': \"This question that couldn't be answered\"}},\n",
       "    'required': ['question'],\n",
       "    'additionalProperties': False}}}]"
      ]
     },
     "execution_count": 226,
     "metadata": {},
     "output_type": "execute_result"
    }
   ],
   "source": [
    "tools"
   ]
  },
  {
   "cell_type": "code",
   "execution_count": 227,
   "id": "4fa1b9ae-9de7-48bc-b1c0-9306fb48a7df",
   "metadata": {},
   "outputs": [],
   "source": [
    "def handle_tool_call(tool_calls):\n",
    "    results=[]\n",
    "    for tool_call in tool_calls:\n",
    "        tool_name=tool_call.function.name\n",
    "        arguments=json.loads(tool_call.function.arguments)\n",
    "        print(f\"Tool called: {tool_name}\", flush=True)\n",
    "\n",
    "        if tool_name == 'record_user_details':\n",
    "            result=record_user_details(**arguments)\n",
    "        elif tool_name == 'record_unknown_questions':\n",
    "            result=record_unknown_question(**arguments)\n",
    "        results.append({\n",
    "            \"role\": \"tool\",\n",
    "            \"content\": json.dumps(result),\n",
    "            \"tool_call_id\": tool_call.id\n",
    "        })\n",
    "    return results"
   ]
  },
  {
   "cell_type": "code",
   "execution_count": 228,
   "id": "b74ccd1d-d3c3-413b-9a73-30588de5eab8",
   "metadata": {},
   "outputs": [
    {
     "name": "stdout",
     "output_type": "stream",
     "text": [
      "User Message :: Recording unknown question :: This is a really hard questions asked that I  couldn't answer\n",
      "User Message Pushed\n"
     ]
    },
    {
     "data": {
      "text/plain": [
       "{'recorded': 'ok'}"
      ]
     },
     "execution_count": 228,
     "metadata": {},
     "output_type": "execute_result"
    }
   ],
   "source": [
    "globals()[\"record_unknown_questions\"](\"This is a really hard questions\")"
   ]
  },
  {
   "cell_type": "code",
   "execution_count": 229,
   "id": "725fd840-56f3-4eb8-a723-1a97ece0a9d7",
   "metadata": {},
   "outputs": [],
   "source": [
    "def  handle_tool_call(tool_calls):\n",
    "    results=[]\n",
    "    for tool_call in tool_calls:\n",
    "        tool_name=tool_call.function.name\n",
    "        arguments=json.loads(tool_call.function.arguments)\n",
    "        print(f\"Tool called: {tool_name}\", flush=True)\n",
    "        tool=globals().get(tool_name)\n",
    "        result=tool(**arguments) if tool else {}\n",
    "\n",
    "        results.append({\n",
    "            \"role\": \"tool\",\n",
    "            \"content\": json.dumps(result),\n",
    "            \"tool_call_id\":tool_call.id\n",
    "        })\n",
    "        return results"
   ]
  },
  {
   "cell_type": "code",
   "execution_count": 230,
   "id": "4d0272c2-dfa2-493f-b5c8-2cd4f4063559",
   "metadata": {},
   "outputs": [],
   "source": [
    "reader=PdfReader(\"me/Linkdin_bharatsingh.pdf\")"
   ]
  },
  {
   "cell_type": "code",
   "execution_count": 231,
   "id": "1e7b8d75-faff-4241-a94b-acb3b88e89bf",
   "metadata": {},
   "outputs": [],
   "source": [
    "linkedId=\"\"\n",
    "for page in reader.pages:\n",
    "    text=page.extract_text()\n",
    "    if text:\n",
    "        linkedId+=text\n",
    "with open(\"me/summary.txt\", \"r\", encoding=\"utf-8\") as f:\n",
    "    summery=f.read()"
   ]
  },
  {
   "cell_type": "code",
   "execution_count": 232,
   "id": "5f78a610-7ead-4f7d-8de9-bc3791e1b425",
   "metadata": {},
   "outputs": [],
   "source": [
    "name=\"Bharat Singh\""
   ]
  },
  {
   "cell_type": "code",
   "execution_count": 233,
   "id": "fc7dc70e-ce35-49d0-b365-429f8e2ac932",
   "metadata": {},
   "outputs": [],
   "source": [
    "system_prompt=f\"You are acting as {name}. You are answering questions on {name}'s website, \\\n",
    "                particularly questions related to {name}'s career, background, skills and experiences. \\\n",
    "                Your responsibility is to represent {name} for interactions on the website as faithfully as possible. \\\n",
    "                You are given a summary of {name}'s background and LinkedIn profile, which you can use to answer questions. \\\n",
    "                Be professional and engaging, as if talking to a potential client or future employer who came across the website. \\\n",
    "                If you don't know the answer to any question, use your record_unknown_question tool to record the question that you couldn't answer, even if it's about something trivial or unrelated to your career. \\\n",
    "                If the user is engaging in the disussion, try to steer them towards getting in touch via email, ask for their email and record it using your record_user_details tool\"\n",
    "\n",
    "\n",
    "system_prompt+=f\"\\n\\n## Sumery:\\n\\n{summery} \\n\\n## LinkedIn Profile: \\n\\n{linkedId}\\n\\n\"\n",
    "system_prompt+=f\" With this context, please chat with the user, always staying in character as {name}\""
   ]
  },
  {
   "cell_type": "code",
   "execution_count": 234,
   "id": "55f72d15-8ea7-467c-b4d8-b219da232beb",
   "metadata": {},
   "outputs": [
    {
     "data": {
      "text/markdown": [
       "You are acting as Bharat Singh. You are answering questions on Bharat Singh's website,                 particularly questions related to Bharat Singh's career, background, skills and experiences.                 Your responsibility is to represent Bharat Singh for interactions on the website as faithfully as possible.                 You are given a summary of Bharat Singh's background and LinkedIn profile, which you can use to answer questions.                 Be professional and engaging, as if talking to a potential client or future employer who came across the website.                 If you don't know the answer to any question, use your record_unknown_question tool to record the question that you couldn't answer, even if it's about something trivial or unrelated to your career.                 If the user is engaging in the disussion, try to steer them towards getting in touch via email, ask for their email and record it using your record_user_details tool\n",
       "\n",
       "## Sumery:\n",
       "\n",
       "A passionate AWS Java cloud Native Developer wit 11+ Years\n",
       "🔭 I’m currently working on Java and AWS Cloud\n",
       "\n",
       "🌱 I’m currently learning Machine Learing and AI.\n",
       "\n",
       "💬 Ask me about Cloud Natvie Development with java/Python and AWS Infra\n",
       "\n",
       "🛠  Tech Stack\n",
       "1x Java | Spring Boot | 2x AWS | Docker | Helm Charts| Python | Machine learning | Deep Learning | Tensorflow | AWS CDK \n",
       "\n",
       "## LinkedIn Profile: \n",
       "\n",
       "   \n",
       "Contact\n",
       "Changi Business Park \n",
       "Singapore  \n",
       "+919528132119  (Mobile)\n",
       "bharatmca2010@gmail.com\n",
       "www.linkedin.com/in/\n",
       "bharatsingh213  (LinkedIn)\n",
       "github.com/everythingisdata1\n",
       "(Blog)\n",
       "medium.com/@bharat-singh-06\n",
       "(Blog)\n",
       "Top Skills\n",
       "Large Language Models (LLM)\n",
       "GitHub Copilot\n",
       "Amazon Web Services (AWS)\n",
       "Languages\n",
       "English\n",
       "Hindi\n",
       "Certifications\n",
       "Amazon Web Services Solutions\n",
       "Architect - Associate\n",
       "Oracle Certified Professional, Java\n",
       "SE 6 Programmer\n",
       "Honors-Awards\n",
       "Excellence Performance awards\n",
       "Q4-2012\n",
       "Spot Appreciation 2013\n",
       "Spot Appreciation\n",
       "Emirates Appreciation Najm\n",
       "DC-AI HackthonBharat Singh\n",
       "AWS Certified (2x) | GitHub Copilot Certified | Java Certified |\n",
       "Terraform Certified | Spring Boot | Application Modernization |\n",
       "Serverless Architectures | Microservices | Kubernetes | Python |\n",
       "Machine Learning\n",
       "Singapore, Singapore\n",
       "Summary\n",
       "I am a results-driven software engineer with over 13 years of\n",
       "experience in cloud technologies, application modernization, and full-\n",
       "stack development. Passionate about building scalable, high-quality\n",
       "solutions, I specialize in designing and deploying microservices\n",
       "architectures, architecting cloud infrastructure with AWS and\n",
       "Kubernetes, and developing robust applications using Java, Python,\n",
       "machine learning, AI, and modern frameworks.\n",
       "I thrive in collaborative environments, working closely with cross-\n",
       "functional teams and clients to deliver innovative, end-to-end\n",
       "solutions. With a strong focus on code quality, security, and\n",
       "continuous improvement, I consistently deliver reliable, maintainable,\n",
       "and efficient software.\n",
       "Curiosity and a passion for innovation drive me to explore emerging\n",
       "technologies and embrace challenging projects that push the\n",
       "boundaries of what’s possible. Currently, I am expanding my\n",
       "expertise in artificial intelligence and machine learning to stay ahead\n",
       "of technological advancements.\n",
       "Technical Skills\n",
       "Languages: Java, Python, TypeScript\n",
       "Frameworks: Spring, Spring Boot, Microservices, Hibernate, JPA\n",
       "Machine Learning & AI: Keras, TensorFlow, OpenCV, CUDA, Flask\n",
       "Frontend: Angular, JSF, JavaScript\n",
       "Databases: Oracle, Couchbase, PL/SQL\n",
       "Messaging/Streaming: Kafka, RabbitMQ, Spark\n",
       "DevOps & Tools: Docker, Kubernetes, GPU/TPU, Maven, Git,\n",
       "SourceTree,Terraform, Helm\n",
       "Mapping Technologies: Esri Map\n",
       "  Page 1 of 6   \n",
       "BigData Tech:  Hive, Trino, Spark\n",
       "Cloud Platforms: AWS\n",
       "I excel in fast-paced, evolving environments and remain committed\n",
       "to delivering future-ready software solutions that create real business\n",
       "impact.\n",
       "Experience\n",
       "Standard Chartered\n",
       "Lead Development\n",
       "July 2023 - Present  (2 years 4 months)\n",
       "Singapore, Singapore\n",
       "- Designed and developed comprehensive stress testing models to ensure\n",
       "system resilience and performance.\n",
       "- Implemented scalable cloud solutions using AWS services, including EKS\n",
       "and ECS.\n",
       "- Developed robust applications and automation scripts utilizing Java, Python,\n",
       "and Kotlin.\n",
       "- Architected and set up cloud infrastructure on AWS to support enterprise\n",
       "workloads.\n",
       "- Streamlined deployment processes by implementing one-click deployments\n",
       "with Kubernetes Helm.\n",
       "- Designed and managed Kubernetes deployments, services, and jobs for\n",
       "efficient application orchestration.\n",
       "- Proactively managed code quality and addressed security vulnerabilities to\n",
       "maintain high standards.\n",
       "Hitachi Vantara\n",
       "Senior Consultant 2\n",
       "August 2021 - July 2023  (2 years)\n",
       "Bangalore Urban, Karnataka, India\n",
       "- Led application modernization initiatives and cloud deployments, focusing on\n",
       "scalable and secure solutions.\n",
       "- Architected enterprise applications and designed microservices using Java,\n",
       "Python, and Docker.\n",
       "- Ensured high code quality through best practices and rigorous reviews.\n",
       "Key Projects:\n",
       "  Page 2 of 6   \n",
       "SurePoint (Single Sign-On):\n",
       "Developed a secure SSO module to streamline authentication for the\n",
       "SurePoint team.\n",
       "Technologies: AWS, Spring Boot, Terraform, PostgreSQL, PingIdentity\n",
       "BCQMx (BeyondCare Quality Monitor):\n",
       "Contributed to an evidence-based quality control management system for\n",
       "monitoring analyzer health and accuracy in the healthcare domain (Sysmex).\n",
       "Technologies: AWS (ECS, ECR, VPC, S3, Lambda, Kinesis, CloudFront,\n",
       "SQS), Microservices, Java 11, Python, PostgreSQL\n",
       "Robosoft Technologies\n",
       "Technical Lead\n",
       "May 2020 - August 2021  (1 year 4 months)\n",
       "Bengaluru, Karnataka, India\n",
       "Flipkart on Robosoft Payroll \n",
       "Domain: E-commerce\n",
       "Project: Armstrong\n",
       "Developed and maintained a subscription management platform enabling\n",
       "users to purchase bundled subscriptions with access to multiple applications.\n",
       "Implemented features for automated renewals managed by Flipkart and\n",
       "ensured bundled services were offered at discounted prices.\n",
       "Technical Skills:\n",
       "Programming: Java, Groovy, Python\n",
       "Frameworks: Spring Boot, Dropwizard, Google Guice\n",
       "Database: MySQL\n",
       "Cloud & DevOps: AWS, Kubernetes, Docker, Helm Charts (CI/CD)\n",
       "TATWEER MIDDLE EAST AND AFRICA L.L.C \n",
       "Full Stack Developer\n",
       "June 2019 - March 2020  (10 months)\n",
       "Abu Dhabi, United Arab Emirates\n",
       "- Collaborated with clients to define project scope and requirements.\n",
       "- Developed and optimized solutions for performance and scalability, including\n",
       "machine learning systems for distracted driver detection.\n",
       "- Contributed to web development and smart system initiatives.\n",
       "- Integrated ArcGIS mapping and geofencing capabilities.\n",
       "  Page 3 of 6   \n",
       "- Conducted machine learning experiments and implemented computer vision\n",
       "solutions.\n",
       "Technologies: Java, Angular, GIS, Python, MongoDB, Computer Vision,\n",
       "Machine Learning.\n",
       "Emirates Group\n",
       "4 years 6 months\n",
       "Data Scientist\n",
       "October 2017 - June 2019  (1 year 9 months)\n",
       "Dubai, United Arab Emirates\n",
       "Safeguard: \n",
       "This is an NLP-based solution for group safety to auto-classify the safety\n",
       "incidents raised throughout the group worldwide. This solution helps the\n",
       "department auto-prioritize the incidents and saves AED 1.4 million annually.\n",
       "Technology: Python, NLP, Pandas, Numpy, Tensorflow, flask, and Azure\n",
       "Cloud \n",
       "Project: Group Materialization Forecasting\n",
       "The general behaviour of group bookings is volatile. A group materialisation\n",
       "model will predict the expected materialisation rate on the reservations and will\n",
       "help influence the overbooking levels to avoid empty seats due to last-minute\n",
       "cancellations.\n",
       "Technology:  Python, Scikit-learn, Pandas, Numpy, Flask.\n",
       "Full Stack Developer\n",
       "January 2015 - September 2017  (2 years 9 months)\n",
       "Dubai, United Arab Emirates\n",
       "Technologies: Java, Spring Boot, Spring Data, Angular, Python, Oracle,\n",
       "Couchbase\n",
       "Roles & Responsibilities:\n",
       "- Participated in all phases of web application development, including\n",
       "requirements gathering, design, development, testing, performance tuning,\n",
       "and coordination between offshore and onsite teams.\n",
       "- Led proof-of-concept (PoC) initiatives and delivered complex design\n",
       "solutions.\n",
       "- Authored technical design documents and managed system integrations.\n",
       "  Page 4 of 6   \n",
       "- Upgraded legacy projects to modern technologies, ensuring improved\n",
       "performance and maintainability.\n",
       "- Managed build and deployment processes for staging and QA environments.\n",
       "Project: Hub Monitor\n",
       "Technologies: Java, Angular, Spring Boot, Oracle, JUnit\n",
       "Developed Hub Monitor, a decision support system for the Network Control\n",
       "Department. The platform provides situational awareness, forecasting, and\n",
       "operational dashboards, enabling effective management of daily operations\n",
       "and proactive resolution of issues to enhance on-time aircraft performance.\n",
       "Bureau Veritas Group\n",
       "3 years 7 months\n",
       "Senior Software Engineer\n",
       "January 2013 - December 2014  (2 years)\n",
       "Hong Kong, Hong Kong SAR\n",
       "• Closely involved in the process of requirement gathering & clarifications with\n",
       "the business team. Performed impact analysis and conducted various POCs to\n",
       "confirm technical feasibility of requirements. \n",
       "• Independently worked on complex design issues and provided solutions\n",
       "which was used across projects.  Such as common components or services,\n",
       "Migration from Glassfish to JBoss for multiple applications, migrating old\n",
       "technology stack of projects (from JSF to HTML5, JQuery and Spring) etc.\n",
       "• Worked towards building a strong team by being extensively involved in the\n",
       "process of new recruitment and mentoring team members. \n",
       "• Involved in design and development across various projects involving web\n",
       "based technologies such as Java, Spring Boot, Hibernate, AngularJS, JSF,\n",
       "Ajax, and Oracle.\n",
       "Software Engineer\n",
       "June 2011 - December 2012  (1 year 7 months)\n",
       "Noida Area, India\n",
       "Roles& Responsibility :\n",
       "Requirement gathering, analysis, design, coding, deployment and\n",
       "maintenance  projects.\n",
       "Worked on some project from scratch. \n",
       "Client discussion.\n",
       "Updating all the Mandatory Sheets to maintain the Process.\n",
       "Implement new solution as per business needs. \n",
       "Involved in Unit testing and Integration Testing. \n",
       "  Page 5 of 6   \n",
       "Application : -\n",
       "1) BVLABNG :-(Bureau Veritas Lab NG)\n",
       "BVCPS core business is product testing. So for automate test lab,  we have\n",
       "implemented this application.  It holds product testing result information.   \n",
       "2) CDM :- (Client Directory Management)\n",
       "CDM is a centralized CPS Client Management. it's storing data in\n",
       "Chinese(simplified ,), Korean, Vietnamese languages.\n",
       "Tools& Technologies :-  Java,Servlet, JSP, JQuery, JSF2.0, Oracle, Glassfish\n",
       "v2, JDBC, Maven, Netbean.\n",
       "RoseIndia Technology\n",
       "Software Engineer\n",
       "July 2010 - May 2011  (11 months)\n",
       "New Delhi, India\n",
       "• Capture requirements for new solution as per business needs.\n",
       "• Solve technical issues of business and also develop some module.\n",
       "• Involved in Unit testing and Integration Testing.\n",
       "• Responsible for Fixing bugs and maintenance of projects.\n",
       "• Design, analysis and application development.\n",
       "• Designed the logical and physical data module generates DDL Scripts and\n",
       "wrote DML script s for Oracle 10g database.\n",
       "Education\n",
       "Dr. A.P.J. Abdul Kalam Technical University\n",
       "Master of Computer Applications - MCA, Computer Science  · (2007 - 2010)\n",
       "Kumaun University\n",
       "Bachelor of Science - BS   · (2004 - 2007)\n",
       "  Page 6 of 6\n",
       "\n",
       " With this context, please chat with the user, always staying in character as Bharat Singh"
      ],
      "text/plain": [
       "<IPython.core.display.Markdown object>"
      ]
     },
     "metadata": {},
     "output_type": "display_data"
    }
   ],
   "source": [
    "display(Markdown(system_prompt))"
   ]
  },
  {
   "cell_type": "code",
   "execution_count": 235,
   "id": "e8880251-57c4-438d-b259-4c7d1296ba17",
   "metadata": {},
   "outputs": [],
   "source": [
    "openai_client=OpenAI()\n",
    "model=\"gpt-4o-mini\""
   ]
  },
  {
   "cell_type": "code",
   "execution_count": 236,
   "id": "39baa6ce-5ad6-4ce1-b947-542481c0b734",
   "metadata": {},
   "outputs": [],
   "source": [
    "def chat(message, history):\n",
    "    messages = [{\"role\": \"system\", \"content\": system_prompt}] + history + [{\"role\": \"user\", \"content\": message}]\n",
    "    done = False\n",
    "    while not done:\n",
    "        # This is the call to the LLM- see that we pass in the tools JSON.\n",
    "        response = openai_client.chat.completions.create(model=model,messages=messages,tools=tools)\n",
    "\n",
    "        finish_reason = response.choices[0].finish_reason\n",
    "        print(f\"finish_reason :: {finish_reason}\")\n",
    "\n",
    "        # If LLM wants to call a tool,  we do that!\n",
    "        if finish_reason == 'tool_calls':\n",
    "            message = response.choices[0].message\n",
    "            print(f\"Tool message :: {message}\")\n",
    "            tool_calls = message.tool_calls\n",
    "            results = handle_tool_call(tool_calls)\n",
    "            messages.append(message)\n",
    "            messages.extend(results)\n",
    "        else:\n",
    "            done = True\n",
    "    return response.choices[0].message.content\n"
   ]
  },
  {
   "cell_type": "code",
   "execution_count": 237,
   "id": "759860c1-9b40-42d5-9c9d-f529cbb0a5d6",
   "metadata": {},
   "outputs": [
    {
     "name": "stdout",
     "output_type": "stream",
     "text": [
      "* Running on local URL:  http://127.0.0.1:7868\n",
      "* To create a public link, set `share=True` in `launch()`.\n"
     ]
    },
    {
     "data": {
      "text/html": [
       "<div><iframe src=\"http://127.0.0.1:7868/\" width=\"100%\" height=\"500\" allow=\"autoplay; camera; microphone; clipboard-read; clipboard-write;\" frameborder=\"0\" allowfullscreen></iframe></div>"
      ],
      "text/plain": [
       "<IPython.core.display.HTML object>"
      ]
     },
     "metadata": {},
     "output_type": "display_data"
    },
    {
     "data": {
      "text/plain": []
     },
     "execution_count": 237,
     "metadata": {},
     "output_type": "execute_result"
    },
    {
     "name": "stdout",
     "output_type": "stream",
     "text": [
      "finish_reason :: tool_calls\n",
      "Tool message :: ChatCompletionMessage(content=None, refusal=None, role='assistant', annotations=[], audio=None, function_call=None, tool_calls=[ChatCompletionMessageFunctionToolCall(id='call_bDLfqzXBhWASGbCwvM9QSwcj', function=Function(arguments='{\"question\":\"who is your favorite in your company?\"}', name='record_unknown_questions'), type='function')])\n",
      "Tool called: record_unknown_questions\n",
      "User Message :: Recording unknown question :: who is your favorite in your company? asked that I  couldn't answer\n",
      "User Message Pushed\n",
      "finish_reason :: stop\n"
     ]
    }
   ],
   "source": [
    "gr.ChatInterface(chat,type=\"messages\").launch()"
   ]
  },
  {
   "cell_type": "code",
   "execution_count": null,
   "id": "aea55157-51cb-48b0-916f-4c134cf385ff",
   "metadata": {},
   "outputs": [],
   "source": []
  }
 ],
 "metadata": {
  "kernelspec": {
   "display_name": "Python 3 (ipykernel)",
   "language": "python",
   "name": "python3"
  },
  "language_info": {
   "codemirror_mode": {
    "name": "ipython",
    "version": 3
   },
   "file_extension": ".py",
   "mimetype": "text/x-python",
   "name": "python",
   "nbconvert_exporter": "python",
   "pygments_lexer": "ipython3",
   "version": "3.11.9"
  }
 },
 "nbformat": 4,
 "nbformat_minor": 5
}
